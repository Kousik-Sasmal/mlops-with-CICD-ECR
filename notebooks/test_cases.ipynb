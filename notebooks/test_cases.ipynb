{
 "cells": [
  {
   "cell_type": "code",
   "execution_count": 1,
   "id": "07598b5d-de68-497c-877d-2e875c342bf1",
   "metadata": {
    "tags": []
   },
   "outputs": [
    {
     "data": {
      "text/plain": [
       "'/home/kousik/ALL_OTHERS/practice_projects/mlops-with-mlflow/notebooks'"
      ]
     },
     "execution_count": 1,
     "metadata": {},
     "output_type": "execute_result"
    }
   ],
   "source": [
    "import os\n",
    "os.getcwd()"
   ]
  },
  {
   "cell_type": "code",
   "execution_count": 2,
   "id": "e2d88a23-17e4-4292-85d1-3eddbc4e056a",
   "metadata": {
    "tags": []
   },
   "outputs": [],
   "source": [
    "import pandas as pd\n",
    "\n",
    "df = pd.read_csv(\"../data/processed/train_winequality.csv\")"
   ]
  },
  {
   "cell_type": "code",
   "execution_count": 3,
   "id": "44a07ced-d0ae-4619-9275-3e9d13fc4dc4",
   "metadata": {
    "tags": []
   },
   "outputs": [
    {
     "data": {
      "text/plain": [
       "Index(['fixed_acidity', 'volatile_acidity', 'citric_acid', 'residual_sugar',\n",
       "       'chlorides', 'free_sulfur_dioxide', 'total_sulfur_dioxide', 'density',\n",
       "       'pH', 'sulphates', 'alcohol', 'TARGET'],\n",
       "      dtype='object')"
      ]
     },
     "execution_count": 3,
     "metadata": {},
     "output_type": "execute_result"
    }
   ],
   "source": [
    "df.columns"
   ]
  },
  {
   "cell_type": "code",
   "execution_count": 4,
   "id": "409631e3-44d3-4bc5-925c-52c536f73ce6",
   "metadata": {
    "tags": []
   },
   "outputs": [
    {
     "data": {
      "text/html": [
       "<div>\n",
       "<style scoped>\n",
       "    .dataframe tbody tr th:only-of-type {\n",
       "        vertical-align: middle;\n",
       "    }\n",
       "\n",
       "    .dataframe tbody tr th {\n",
       "        vertical-align: top;\n",
       "    }\n",
       "\n",
       "    .dataframe thead th {\n",
       "        text-align: right;\n",
       "    }\n",
       "</style>\n",
       "<table border=\"1\" class=\"dataframe\">\n",
       "  <thead>\n",
       "    <tr style=\"text-align: right;\">\n",
       "      <th></th>\n",
       "      <th>count</th>\n",
       "      <th>mean</th>\n",
       "      <th>std</th>\n",
       "      <th>min</th>\n",
       "      <th>25%</th>\n",
       "      <th>50%</th>\n",
       "      <th>75%</th>\n",
       "      <th>max</th>\n",
       "    </tr>\n",
       "  </thead>\n",
       "  <tbody>\n",
       "    <tr>\n",
       "      <th>fixed_acidity</th>\n",
       "      <td>1279.0</td>\n",
       "      <td>8.323690</td>\n",
       "      <td>1.724243</td>\n",
       "      <td>4.60000</td>\n",
       "      <td>7.100000</td>\n",
       "      <td>7.9000</td>\n",
       "      <td>9.200000</td>\n",
       "      <td>15.90000</td>\n",
       "    </tr>\n",
       "    <tr>\n",
       "      <th>volatile_acidity</th>\n",
       "      <td>1279.0</td>\n",
       "      <td>0.530559</td>\n",
       "      <td>0.179275</td>\n",
       "      <td>0.12000</td>\n",
       "      <td>0.400000</td>\n",
       "      <td>0.5200</td>\n",
       "      <td>0.640000</td>\n",
       "      <td>1.58000</td>\n",
       "    </tr>\n",
       "    <tr>\n",
       "      <th>citric_acid</th>\n",
       "      <td>1279.0</td>\n",
       "      <td>0.272471</td>\n",
       "      <td>0.195448</td>\n",
       "      <td>0.00000</td>\n",
       "      <td>0.100000</td>\n",
       "      <td>0.2600</td>\n",
       "      <td>0.430000</td>\n",
       "      <td>1.00000</td>\n",
       "    </tr>\n",
       "    <tr>\n",
       "      <th>residual_sugar</th>\n",
       "      <td>1279.0</td>\n",
       "      <td>2.555473</td>\n",
       "      <td>1.435790</td>\n",
       "      <td>0.90000</td>\n",
       "      <td>1.900000</td>\n",
       "      <td>2.2000</td>\n",
       "      <td>2.600000</td>\n",
       "      <td>15.50000</td>\n",
       "    </tr>\n",
       "    <tr>\n",
       "      <th>chlorides</th>\n",
       "      <td>1279.0</td>\n",
       "      <td>0.088448</td>\n",
       "      <td>0.049332</td>\n",
       "      <td>0.01200</td>\n",
       "      <td>0.071000</td>\n",
       "      <td>0.0800</td>\n",
       "      <td>0.091000</td>\n",
       "      <td>0.61100</td>\n",
       "    </tr>\n",
       "    <tr>\n",
       "      <th>free_sulfur_dioxide</th>\n",
       "      <td>1279.0</td>\n",
       "      <td>15.876075</td>\n",
       "      <td>10.313517</td>\n",
       "      <td>1.00000</td>\n",
       "      <td>7.000000</td>\n",
       "      <td>14.0000</td>\n",
       "      <td>21.000000</td>\n",
       "      <td>68.00000</td>\n",
       "    </tr>\n",
       "    <tr>\n",
       "      <th>total_sulfur_dioxide</th>\n",
       "      <td>1279.0</td>\n",
       "      <td>46.657154</td>\n",
       "      <td>32.941962</td>\n",
       "      <td>6.00000</td>\n",
       "      <td>22.000000</td>\n",
       "      <td>38.0000</td>\n",
       "      <td>63.000000</td>\n",
       "      <td>289.00000</td>\n",
       "    </tr>\n",
       "    <tr>\n",
       "      <th>density</th>\n",
       "      <td>1279.0</td>\n",
       "      <td>0.996774</td>\n",
       "      <td>0.001856</td>\n",
       "      <td>0.99007</td>\n",
       "      <td>0.995655</td>\n",
       "      <td>0.9968</td>\n",
       "      <td>0.997845</td>\n",
       "      <td>1.00369</td>\n",
       "    </tr>\n",
       "    <tr>\n",
       "      <th>pH</th>\n",
       "      <td>1279.0</td>\n",
       "      <td>3.311650</td>\n",
       "      <td>0.154016</td>\n",
       "      <td>2.74000</td>\n",
       "      <td>3.210000</td>\n",
       "      <td>3.3100</td>\n",
       "      <td>3.400000</td>\n",
       "      <td>4.01000</td>\n",
       "    </tr>\n",
       "    <tr>\n",
       "      <th>sulphates</th>\n",
       "      <td>1279.0</td>\n",
       "      <td>0.660023</td>\n",
       "      <td>0.174605</td>\n",
       "      <td>0.37000</td>\n",
       "      <td>0.550000</td>\n",
       "      <td>0.6200</td>\n",
       "      <td>0.730000</td>\n",
       "      <td>2.00000</td>\n",
       "    </tr>\n",
       "    <tr>\n",
       "      <th>alcohol</th>\n",
       "      <td>1279.0</td>\n",
       "      <td>10.418100</td>\n",
       "      <td>1.052694</td>\n",
       "      <td>8.40000</td>\n",
       "      <td>9.500000</td>\n",
       "      <td>10.2000</td>\n",
       "      <td>11.100000</td>\n",
       "      <td>14.90000</td>\n",
       "    </tr>\n",
       "    <tr>\n",
       "      <th>TARGET</th>\n",
       "      <td>1279.0</td>\n",
       "      <td>5.623925</td>\n",
       "      <td>0.806909</td>\n",
       "      <td>3.00000</td>\n",
       "      <td>5.000000</td>\n",
       "      <td>6.0000</td>\n",
       "      <td>6.000000</td>\n",
       "      <td>8.00000</td>\n",
       "    </tr>\n",
       "  </tbody>\n",
       "</table>\n",
       "</div>"
      ],
      "text/plain": [
       "                       count       mean        std      min        25%  \\\n",
       "fixed_acidity         1279.0   8.323690   1.724243  4.60000   7.100000   \n",
       "volatile_acidity      1279.0   0.530559   0.179275  0.12000   0.400000   \n",
       "citric_acid           1279.0   0.272471   0.195448  0.00000   0.100000   \n",
       "residual_sugar        1279.0   2.555473   1.435790  0.90000   1.900000   \n",
       "chlorides             1279.0   0.088448   0.049332  0.01200   0.071000   \n",
       "free_sulfur_dioxide   1279.0  15.876075  10.313517  1.00000   7.000000   \n",
       "total_sulfur_dioxide  1279.0  46.657154  32.941962  6.00000  22.000000   \n",
       "density               1279.0   0.996774   0.001856  0.99007   0.995655   \n",
       "pH                    1279.0   3.311650   0.154016  2.74000   3.210000   \n",
       "sulphates             1279.0   0.660023   0.174605  0.37000   0.550000   \n",
       "alcohol               1279.0  10.418100   1.052694  8.40000   9.500000   \n",
       "TARGET                1279.0   5.623925   0.806909  3.00000   5.000000   \n",
       "\n",
       "                          50%        75%        max  \n",
       "fixed_acidity          7.9000   9.200000   15.90000  \n",
       "volatile_acidity       0.5200   0.640000    1.58000  \n",
       "citric_acid            0.2600   0.430000    1.00000  \n",
       "residual_sugar         2.2000   2.600000   15.50000  \n",
       "chlorides              0.0800   0.091000    0.61100  \n",
       "free_sulfur_dioxide   14.0000  21.000000   68.00000  \n",
       "total_sulfur_dioxide  38.0000  63.000000  289.00000  \n",
       "density                0.9968   0.997845    1.00369  \n",
       "pH                     3.3100   3.400000    4.01000  \n",
       "sulphates              0.6200   0.730000    2.00000  \n",
       "alcohol               10.2000  11.100000   14.90000  \n",
       "TARGET                 6.0000   6.000000    8.00000  "
      ]
     },
     "execution_count": 4,
     "metadata": {},
     "output_type": "execute_result"
    }
   ],
   "source": [
    "df.describe().T"
   ]
  },
  {
   "cell_type": "code",
   "execution_count": 5,
   "id": "8d6b521a-d13a-4cd8-8d06-046ef49008a1",
   "metadata": {
    "tags": []
   },
   "outputs": [
    {
     "data": {
      "text/html": [
       "<div>\n",
       "<style scoped>\n",
       "    .dataframe tbody tr th:only-of-type {\n",
       "        vertical-align: middle;\n",
       "    }\n",
       "\n",
       "    .dataframe tbody tr th {\n",
       "        vertical-align: top;\n",
       "    }\n",
       "\n",
       "    .dataframe thead th {\n",
       "        text-align: right;\n",
       "    }\n",
       "</style>\n",
       "<table border=\"1\" class=\"dataframe\">\n",
       "  <thead>\n",
       "    <tr style=\"text-align: right;\">\n",
       "      <th></th>\n",
       "      <th>min</th>\n",
       "      <th>max</th>\n",
       "    </tr>\n",
       "  </thead>\n",
       "  <tbody>\n",
       "    <tr>\n",
       "      <th>fixed_acidity</th>\n",
       "      <td>4.60000</td>\n",
       "      <td>15.90000</td>\n",
       "    </tr>\n",
       "    <tr>\n",
       "      <th>volatile_acidity</th>\n",
       "      <td>0.12000</td>\n",
       "      <td>1.58000</td>\n",
       "    </tr>\n",
       "    <tr>\n",
       "      <th>citric_acid</th>\n",
       "      <td>0.00000</td>\n",
       "      <td>1.00000</td>\n",
       "    </tr>\n",
       "    <tr>\n",
       "      <th>residual_sugar</th>\n",
       "      <td>0.90000</td>\n",
       "      <td>15.50000</td>\n",
       "    </tr>\n",
       "    <tr>\n",
       "      <th>chlorides</th>\n",
       "      <td>0.01200</td>\n",
       "      <td>0.61100</td>\n",
       "    </tr>\n",
       "    <tr>\n",
       "      <th>free_sulfur_dioxide</th>\n",
       "      <td>1.00000</td>\n",
       "      <td>68.00000</td>\n",
       "    </tr>\n",
       "    <tr>\n",
       "      <th>total_sulfur_dioxide</th>\n",
       "      <td>6.00000</td>\n",
       "      <td>289.00000</td>\n",
       "    </tr>\n",
       "    <tr>\n",
       "      <th>density</th>\n",
       "      <td>0.99007</td>\n",
       "      <td>1.00369</td>\n",
       "    </tr>\n",
       "    <tr>\n",
       "      <th>pH</th>\n",
       "      <td>2.74000</td>\n",
       "      <td>4.01000</td>\n",
       "    </tr>\n",
       "    <tr>\n",
       "      <th>sulphates</th>\n",
       "      <td>0.37000</td>\n",
       "      <td>2.00000</td>\n",
       "    </tr>\n",
       "    <tr>\n",
       "      <th>alcohol</th>\n",
       "      <td>8.40000</td>\n",
       "      <td>14.90000</td>\n",
       "    </tr>\n",
       "    <tr>\n",
       "      <th>TARGET</th>\n",
       "      <td>3.00000</td>\n",
       "      <td>8.00000</td>\n",
       "    </tr>\n",
       "  </tbody>\n",
       "</table>\n",
       "</div>"
      ],
      "text/plain": [
       "                          min        max\n",
       "fixed_acidity         4.60000   15.90000\n",
       "volatile_acidity      0.12000    1.58000\n",
       "citric_acid           0.00000    1.00000\n",
       "residual_sugar        0.90000   15.50000\n",
       "chlorides             0.01200    0.61100\n",
       "free_sulfur_dioxide   1.00000   68.00000\n",
       "total_sulfur_dioxide  6.00000  289.00000\n",
       "density               0.99007    1.00369\n",
       "pH                    2.74000    4.01000\n",
       "sulphates             0.37000    2.00000\n",
       "alcohol               8.40000   14.90000\n",
       "TARGET                3.00000    8.00000"
      ]
     },
     "execution_count": 5,
     "metadata": {},
     "output_type": "execute_result"
    }
   ],
   "source": [
    "df.describe().T[['min','max']]"
   ]
  },
  {
   "cell_type": "code",
   "execution_count": 6,
   "id": "e65c3cb8-a168-408a-a6e5-001b0be95d6f",
   "metadata": {
    "tags": []
   },
   "outputs": [
    {
     "data": {
      "text/plain": [
       "'{\"min\":{\"fixed_acidity\":4.6,\"volatile_acidity\":0.12,\"citric_acid\":0.0,\"residual_sugar\":0.9,\"chlorides\":0.012,\"free_sulfur_dioxide\":1.0,\"total_sulfur_dioxide\":6.0,\"density\":0.99007,\"pH\":2.74,\"sulphates\":0.37,\"alcohol\":8.4,\"TARGET\":3.0},\"max\":{\"fixed_acidity\":15.9,\"volatile_acidity\":1.58,\"citric_acid\":1.0,\"residual_sugar\":15.5,\"chlorides\":0.611,\"free_sulfur_dioxide\":68.0,\"total_sulfur_dioxide\":289.0,\"density\":1.00369,\"pH\":4.01,\"sulphates\":2.0,\"alcohol\":14.9,\"TARGET\":8.0}}'"
      ]
     },
     "execution_count": 6,
     "metadata": {},
     "output_type": "execute_result"
    }
   ],
   "source": [
    "df.describe().T[['min','max']].to_json()"
   ]
  },
  {
   "cell_type": "code",
   "execution_count": 7,
   "id": "7d05c293-20ff-4393-859f-2750afc074d7",
   "metadata": {
    "tags": []
   },
   "outputs": [],
   "source": [
    "# df.describe().T[['min','max']].to_json(\"schema_in.json\")"
   ]
  },
  {
   "cell_type": "code",
   "execution_count": null,
   "id": "97cb9e11-798c-4f45-9a73-e5083665d63d",
   "metadata": {},
   "outputs": [],
   "source": []
  },
  {
   "cell_type": "code",
   "execution_count": 8,
   "id": "0b2e9835-e456-4e27-9cac-25ecfc613cb6",
   "metadata": {
    "tags": []
   },
   "outputs": [
    {
     "data": {
      "text/plain": [
       "'{\"fixed_acidity\":{\"min\":4.6,\"max\":15.9},\"volatile_acidity\":{\"min\":0.12,\"max\":1.58},\"citric_acid\":{\"min\":0.0,\"max\":1.0},\"residual_sugar\":{\"min\":0.9,\"max\":15.5},\"chlorides\":{\"min\":0.012,\"max\":0.611},\"free_sulfur_dioxide\":{\"min\":1.0,\"max\":68.0},\"total_sulfur_dioxide\":{\"min\":6.0,\"max\":289.0},\"density\":{\"min\":0.99007,\"max\":1.00369},\"pH\":{\"min\":2.74,\"max\":4.01},\"sulphates\":{\"min\":0.37,\"max\":2.0},\"alcohol\":{\"min\":8.4,\"max\":14.9},\"TARGET\":{\"min\":3.0,\"max\":8.0}}'"
      ]
     },
     "execution_count": 8,
     "metadata": {},
     "output_type": "execute_result"
    }
   ],
   "source": [
    "df.describe().loc[['min','max']].to_json()"
   ]
  },
  {
   "cell_type": "code",
   "execution_count": 9,
   "id": "acfdbb21-93c3-477f-89cf-94ef29d35be1",
   "metadata": {
    "tags": []
   },
   "outputs": [],
   "source": [
    "# df.describe().loc[['min','max']].to_json(\"schema_in.json\")"
   ]
  },
  {
   "cell_type": "code",
   "execution_count": 10,
   "id": "f5a3fe8b-085c-4b1a-b548-a13275d726d5",
   "metadata": {
    "tags": []
   },
   "outputs": [
    {
     "data": {
      "text/plain": [
       "'{\"fixed_acidity\":{\"min\":4.6,\"max\":15.9},\"volatile_acidity\":{\"min\":0.12,\"max\":1.58},\"citric_acid\":{\"min\":0.0,\"max\":1.0},\"residual_sugar\":{\"min\":0.9,\"max\":15.5},\"chlorides\":{\"min\":0.012,\"max\":0.611},\"free_sulfur_dioxide\":{\"min\":1.0,\"max\":68.0},\"total_sulfur_dioxide\":{\"min\":6.0,\"max\":289.0},\"density\":{\"min\":0.99007,\"max\":1.00369},\"pH\":{\"min\":2.74,\"max\":4.01},\"sulphates\":{\"min\":0.37,\"max\":2.0},\"alcohol\":{\"min\":8.4,\"max\":14.9}}'"
      ]
     },
     "execution_count": 10,
     "metadata": {},
     "output_type": "execute_result"
    }
   ],
   "source": [
    "df.drop(columns='TARGET').describe().loc[['min','max']].to_json()"
   ]
  },
  {
   "cell_type": "code",
   "execution_count": 11,
   "id": "6b6e8d3f-dc80-4a49-87aa-65f56788edaf",
   "metadata": {
    "tags": []
   },
   "outputs": [],
   "source": [
    "df.drop(columns='TARGET').describe().loc[['min','max']].to_json(\"schema_in.json\")"
   ]
  },
  {
   "cell_type": "code",
   "execution_count": 12,
   "id": "bb7a41b7-528b-454c-87a1-91808712f857",
   "metadata": {
    "tags": []
   },
   "outputs": [],
   "source": [
    "df.drop(columns='TARGET').describe().loc[['min','max']].to_json(\"../prediction_service/schema_in.json\")"
   ]
  },
  {
   "cell_type": "code",
   "execution_count": null,
   "id": "abaa25f0-8944-4cb6-a277-482778fe7a58",
   "metadata": {},
   "outputs": [],
   "source": []
  },
  {
   "cell_type": "code",
   "execution_count": 8,
   "id": "f67a724a-b901-4551-9ef8-a42f8ddfa4aa",
   "metadata": {
    "tags": []
   },
   "outputs": [],
   "source": [
    "class NotInRange(Exception):\n",
    "    def __init__(self,message=\"value not in range\"):\n",
    "        self.message = message\n",
    "        super().__init__(self.message)\n",
    "        "
   ]
  },
  {
   "cell_type": "code",
   "execution_count": 17,
   "id": "2b4c6943-20af-4ca9-91e7-493190f9970b",
   "metadata": {
    "tags": []
   },
   "outputs": [
    {
     "ename": "NotInRange",
     "evalue": "value not in range",
     "output_type": "error",
     "traceback": [
      "\u001b[0;31m---------------------------------------------------------------------------\u001b[0m",
      "\u001b[0;31mNotInRange\u001b[0m                                Traceback (most recent call last)",
      "Cell \u001b[0;32mIn[17], line 1\u001b[0m\n\u001b[0;32m----> 1\u001b[0m \u001b[38;5;28;01mraise\u001b[39;00m NotInRange\n",
      "\u001b[0;31mNotInRange\u001b[0m: value not in range"
     ]
    }
   ],
   "source": [
    "raise NotInRange"
   ]
  },
  {
   "cell_type": "code",
   "execution_count": null,
   "id": "50646d4f-1d07-4260-b308-07b2b3edad9e",
   "metadata": {
    "tags": []
   },
   "outputs": [],
   "source": []
  }
 ],
 "metadata": {
  "kernelspec": {
   "display_name": "Python 3 (ipykernel)",
   "language": "python",
   "name": "python3"
  },
  "language_info": {
   "codemirror_mode": {
    "name": "ipython",
    "version": 3
   },
   "file_extension": ".py",
   "mimetype": "text/x-python",
   "name": "python",
   "nbconvert_exporter": "python",
   "pygments_lexer": "ipython3",
   "version": "3.11.5"
  },
  "widgets": {
   "application/vnd.jupyter.widget-state+json": {
    "state": {},
    "version_major": 2,
    "version_minor": 0
   }
  }
 },
 "nbformat": 4,
 "nbformat_minor": 5
}
