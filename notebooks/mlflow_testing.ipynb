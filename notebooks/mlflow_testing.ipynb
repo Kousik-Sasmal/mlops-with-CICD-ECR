{
 "cells": [
  {
   "cell_type": "code",
   "execution_count": 1,
   "id": "cd480dcb-480e-4dff-b27b-e930027bf040",
   "metadata": {
    "tags": []
   },
   "outputs": [
    {
     "data": {
      "text/plain": [
       "'/home/kousik/ALL_OTHERS/practice_projects/mlops-with-mlflow/notebooks'"
      ]
     },
     "execution_count": 1,
     "metadata": {},
     "output_type": "execute_result"
    }
   ],
   "source": [
    "import os\n",
    "os.getcwd()"
   ]
  },
  {
   "cell_type": "code",
   "execution_count": 2,
   "id": "741fcd86-377a-4e2e-b39e-bdb9d953ff6c",
   "metadata": {
    "tags": []
   },
   "outputs": [],
   "source": [
    "os.chdir('../')"
   ]
  },
  {
   "cell_type": "code",
   "execution_count": 3,
   "id": "45b35b66-281c-4453-bd94-c73f647881a2",
   "metadata": {
    "tags": []
   },
   "outputs": [
    {
     "data": {
      "text/plain": [
       "'/home/kousik/ALL_OTHERS/practice_projects/mlops-with-mlflow'"
      ]
     },
     "execution_count": 3,
     "metadata": {},
     "output_type": "execute_result"
    }
   ],
   "source": [
    "os.getcwd()"
   ]
  },
  {
   "cell_type": "code",
   "execution_count": 4,
   "id": "0d82f751-c8f2-49a2-a970-cad7ad7b59a4",
   "metadata": {},
   "outputs": [],
   "source": [
    "import os\n",
    "import warnings\n",
    "import sys\n",
    "import pandas as pd\n",
    "import numpy as np\n",
    "from sklearn.metrics import mean_squared_error, mean_absolute_error, r2_score\n",
    "from sklearn.model_selection import train_test_split\n",
    "from sklearn.linear_model import ElasticNet\n",
    "from src.get_data import read_params\n",
    "import argparse\n",
    "import joblib\n",
    "import json\n",
    "import mlflow\n",
    "from urllib.parse import urlparse"
   ]
  },
  {
   "cell_type": "code",
   "execution_count": 5,
   "id": "09efe3bf-87ea-4678-a326-9c2e1cc3163d",
   "metadata": {
    "tags": []
   },
   "outputs": [],
   "source": [
    "def eval_metrics(actual, pred):\n",
    "    rmse = np.sqrt(mean_squared_error(actual, pred))\n",
    "    mae = mean_absolute_error(actual, pred)\n",
    "    r2 = r2_score(actual, pred)\n",
    "    return rmse, mae, r2\n"
   ]
  },
  {
   "cell_type": "code",
   "execution_count": 6,
   "id": "6ae2b0c6-65ba-4693-8eea-f89a4327fd2b",
   "metadata": {
    "tags": []
   },
   "outputs": [
    {
     "data": {
      "text/plain": [
       "{'base': {'project': 'winequality-project',\n",
       "  'random_state': 42,\n",
       "  'target_col': 'TARGET'},\n",
       " 'data_source': {'s3_source': 'data_given/winequality.csv'},\n",
       " 'load_data': {'raw_dataset_csv': 'data/raw/winequality.csv'},\n",
       " 'split_data': {'train_path': 'data/processed/train_winequality.csv',\n",
       "  'test_path': 'data/processed/test_winequality.csv',\n",
       "  'test_size': 0.2},\n",
       " 'estimators': {'ElasticNet': {'params': {'alpha': 0.88, 'l1_ratio': 0.89}}},\n",
       " 'model_dir': 'saved_models',\n",
       " 'reports': {'params': 'report/params.json', 'scores': 'report/scores.json'},\n",
       " 'webapp_model_dir': 'prediction_service/model/model.joblib',\n",
       " 'mlflow_config': {'artifacts_dir': 'artifacts',\n",
       "  'experiment_name': 'ElasticNet regression',\n",
       "  'run_name': 'mlops',\n",
       "  'registered_model_name': 'ElasticNetWineModel',\n",
       "  'remote_server_uri': 'http://0.0.0.0:5000'}}"
      ]
     },
     "execution_count": 6,
     "metadata": {},
     "output_type": "execute_result"
    }
   ],
   "source": [
    "read_params(config_path=\"params.yaml\")"
   ]
  },
  {
   "cell_type": "code",
   "execution_count": 30,
   "id": "c45eff4e-a3dc-4308-84c0-1143c0f31f1c",
   "metadata": {
    "tags": []
   },
   "outputs": [],
   "source": [
    "config = read_params(config_path=\"params.yaml\")\n",
    "test_data_path = config[\"split_data\"][\"test_path\"]\n",
    "train_data_path = config[\"split_data\"][\"train_path\"]\n",
    "random_state = config[\"base\"][\"random_state\"]\n",
    "model_dir = config[\"model_dir\"]\n",
    "\n",
    "alpha = config[\"estimators\"][\"ElasticNet\"][\"params\"][\"alpha\"]\n",
    "l1_ratio = config[\"estimators\"][\"ElasticNet\"][\"params\"][\"l1_ratio\"]\n",
    "\n",
    "target = [config[\"base\"][\"target_col\"]]\n",
    "\n",
    "train = pd.read_csv(train_data_path, sep=\",\")\n",
    "test = pd.read_csv(test_data_path, sep=\",\")\n",
    "\n",
    "train_y = train[target]\n",
    "test_y = test[target]\n",
    "\n",
    "train_x = train.drop(target, axis=1)\n",
    "test_x = test.drop(target, axis=1)"
   ]
  },
  {
   "cell_type": "code",
   "execution_count": 31,
   "id": "e60ccb46-9de2-45be-b731-9571c7679e79",
   "metadata": {
    "tags": []
   },
   "outputs": [
    {
     "data": {
      "text/plain": [
       "Index(['fixed_acidity', 'volatile_acidity', 'citric_acid', 'residual_sugar',\n",
       "       'chlorides', 'free_sulfur_dioxide', 'total_sulfur_dioxide', 'density',\n",
       "       'pH', 'sulphates', 'alcohol'],\n",
       "      dtype='object')"
      ]
     },
     "execution_count": 31,
     "metadata": {},
     "output_type": "execute_result"
    }
   ],
   "source": [
    "train_x.columns"
   ]
  },
  {
   "cell_type": "markdown",
   "id": "96932cdc-2535-4b85-9e3d-037b0b7c3cf9",
   "metadata": {},
   "source": [
    "## MLFLOW\n"
   ]
  },
  {
   "cell_type": "code",
   "execution_count": 32,
   "id": "e54ecfa0-1367-4841-8947-41d9cd4810a2",
   "metadata": {
    "tags": []
   },
   "outputs": [
    {
     "data": {
      "text/plain": [
       "{'artifacts_dir': 'artifacts',\n",
       " 'experiment_name': 'ElasticNet regression',\n",
       " 'run_name': 'mlops',\n",
       " 'registered_model_name': 'ElasticNetWineModel',\n",
       " 'remote_server_uri': 'http://0.0.0.0:5000'}"
      ]
     },
     "execution_count": 32,
     "metadata": {},
     "output_type": "execute_result"
    }
   ],
   "source": [
    "mlflow_config = config[\"mlflow_config\"]\n",
    "mlflow_config"
   ]
  },
  {
   "cell_type": "code",
   "execution_count": null,
   "id": "c9114f55-eb48-44d9-9d48-c58ad445ffa4",
   "metadata": {},
   "outputs": [],
   "source": []
  },
  {
   "cell_type": "code",
   "execution_count": 33,
   "id": "40381a1a-7b37-4b28-a46f-ff82c1e282b0",
   "metadata": {
    "tags": []
   },
   "outputs": [],
   "source": [
    "mlflow_config = config[\"mlflow_config\"]\n",
    "remote_server_uri = mlflow_config[\"remote_server_uri\"]"
   ]
  },
  {
   "cell_type": "code",
   "execution_count": 34,
   "id": "d0c3fd4a-545b-47f2-ab3d-c9921f17340c",
   "metadata": {
    "tags": []
   },
   "outputs": [],
   "source": [
    "# ?mlflow.set_tracking_uri"
   ]
  },
  {
   "cell_type": "code",
   "execution_count": 35,
   "id": "1f41b932-77ab-4e41-a16e-574c5c837725",
   "metadata": {
    "tags": []
   },
   "outputs": [
    {
     "name": "stdout",
     "output_type": "stream",
     "text": [
      "Current tracking uri: http://0.0.0.0:5000\n"
     ]
    }
   ],
   "source": [
    "mlflow.set_tracking_uri(remote_server_uri)\n",
    "\n",
    "tracking_uri = mlflow.get_tracking_uri()\n",
    "print(f\"Current tracking uri: {tracking_uri}\")\n"
   ]
  },
  {
   "cell_type": "code",
   "execution_count": null,
   "id": "a290dd2c-d0de-4dcd-a845-0382e8455ab7",
   "metadata": {
    "tags": []
   },
   "outputs": [],
   "source": []
  },
  {
   "cell_type": "code",
   "execution_count": 36,
   "id": "1ad57bab-fc35-4ed3-bef2-7bc16a031280",
   "metadata": {
    "tags": []
   },
   "outputs": [
    {
     "data": {
      "text/plain": [
       "'mlflow-artifacts:/546033799678305098/7bde9a6978474518b69aad96c4846871/artifacts'"
      ]
     },
     "execution_count": 36,
     "metadata": {},
     "output_type": "execute_result"
    }
   ],
   "source": [
    "mlflow.get_artifact_uri()"
   ]
  },
  {
   "cell_type": "code",
   "execution_count": 37,
   "id": "dd3a34dc-0ee2-4529-8f05-68c6ea0f2d54",
   "metadata": {
    "tags": []
   },
   "outputs": [
    {
     "data": {
      "text/plain": [
       "ParseResult(scheme='mlflow-artifacts', netloc='', path='/546033799678305098/7bde9a6978474518b69aad96c4846871/artifacts', params='', query='', fragment='')"
      ]
     },
     "execution_count": 37,
     "metadata": {},
     "output_type": "execute_result"
    }
   ],
   "source": [
    "urlparse(mlflow.get_artifact_uri())"
   ]
  },
  {
   "cell_type": "code",
   "execution_count": 38,
   "id": "9fb8a543-d2d3-43ae-8931-64310a2cf436",
   "metadata": {
    "tags": []
   },
   "outputs": [],
   "source": [
    " mlflow.end_run()"
   ]
  },
  {
   "cell_type": "code",
   "execution_count": 39,
   "id": "9118fd0e-3aab-4088-a89a-c4243cc6bbad",
   "metadata": {
    "tags": []
   },
   "outputs": [
    {
     "name": "stderr",
     "output_type": "stream",
     "text": [
      "Registered model 'ElasticNetWineModel' already exists. Creating a new version of this model...\n",
      "2023/10/16 19:54:40 INFO mlflow.tracking._model_registry.client: Waiting up to 300 seconds for model version to finish creation. Model name: ElasticNetWineModel, version 2\n",
      "Created version '2' of model 'ElasticNetWineModel'.\n"
     ]
    }
   ],
   "source": [
    "mlflow_config = config[\"mlflow_config\"]\n",
    "remote_server_uri = mlflow_config[\"remote_server_uri\"]\n",
    "\n",
    "mlflow.set_tracking_uri(remote_server_uri)\n",
    "\n",
    "mlflow.set_experiment(mlflow_config[\"experiment_name\"])\n",
    "\n",
    "with mlflow.start_run(run_name=mlflow_config[\"run_name\"]) as mlops_run:\n",
    "    lr = ElasticNet(\n",
    "        alpha=alpha, \n",
    "        l1_ratio=l1_ratio, \n",
    "        random_state=random_state)\n",
    "    lr.fit(train_x, train_y)\n",
    "\n",
    "    predicted_qualities = lr.predict(test_x)\n",
    "\n",
    "    (rmse, mae, r2) = eval_metrics(test_y, predicted_qualities)\n",
    "\n",
    "    mlflow.log_param(\"alpha\", alpha)\n",
    "    mlflow.log_param(\"l1_ratio\", l1_ratio)\n",
    "\n",
    "    mlflow.log_metric(\"rmse\", rmse)\n",
    "    mlflow.log_metric(\"mae\", mae)\n",
    "    mlflow.log_metric(\"r2\", r2)\n",
    "\n",
    "    tracking_url_type_store = urlparse(mlflow.get_artifact_uri()).scheme\n",
    "\n",
    "    if tracking_url_type_store != \"file\":\n",
    "        mlflow.sklearn.log_model(\n",
    "            lr, \n",
    "            \"model\", \n",
    "            registered_model_name=mlflow_config[\"registered_model_name\"])\n",
    "    else:\n",
    "        mlflow.sklearn.load_model(lr, \"model\")\n",
    "\n",
    "\n",
    "    # tracking_url_type_store = urlparse(mlflow.get_tracking_uri()).scheme\n",
    "\n",
    "    # if tracking_url_type_store != \"file\":\n",
    "    #     mlflow.sklearn.log_model(lr, \"model\", registered_model_name=mlflow_config['registered_model_name'])\n",
    "    # else:\n",
    "    #     mlflow.sklearn.log_model(lr, \"model\")"
   ]
  },
  {
   "cell_type": "code",
   "execution_count": null,
   "id": "6caaddbb-3758-44c2-bbda-f140a37772e5",
   "metadata": {},
   "outputs": [],
   "source": []
  },
  {
   "cell_type": "markdown",
   "id": "bf724cd5-9673-4fd2-9fe1-eacc5c74dea8",
   "metadata": {},
   "source": [
    "### MLFLOW Model Production"
   ]
  },
  {
   "cell_type": "code",
   "execution_count": 40,
   "id": "fd2e549b-4df5-4446-861e-4c665063a1e9",
   "metadata": {
    "tags": []
   },
   "outputs": [],
   "source": [
    "from src.get_data import read_params\n",
    "import argparse\n",
    "import mlflow\n",
    "from mlflow.tracking import MlflowClient\n",
    "from pprint import pprint\n",
    "import joblib\n",
    "import os"
   ]
  },
  {
   "cell_type": "code",
   "execution_count": 41,
   "id": "fdd71eb7-a68b-42cb-b57b-5be5b663c0eb",
   "metadata": {
    "tags": []
   },
   "outputs": [
    {
     "data": {
      "text/plain": [
       "'ElasticNetWineModel'"
      ]
     },
     "execution_count": 41,
     "metadata": {},
     "output_type": "execute_result"
    }
   ],
   "source": [
    "mlflow_config = config[\"mlflow_config\"] \n",
    "model_name = mlflow_config[\"registered_model_name\"]\n",
    "model_name"
   ]
  },
  {
   "cell_type": "code",
   "execution_count": 42,
   "id": "5aec7f76-c66f-49e1-ac11-99ef97f9ce4d",
   "metadata": {
    "tags": []
   },
   "outputs": [],
   "source": [
    "remote_server_uri = mlflow_config[\"remote_server_uri\"]\n",
    "mlflow.set_tracking_uri(remote_server_uri)"
   ]
  },
  {
   "cell_type": "code",
   "execution_count": 43,
   "id": "71f4106e-eefd-4ed9-8a66-36ee02c7afac",
   "metadata": {
    "tags": []
   },
   "outputs": [
    {
     "data": {
      "text/plain": [
       "'http://0.0.0.0:5000'"
      ]
     },
     "execution_count": 43,
     "metadata": {},
     "output_type": "execute_result"
    }
   ],
   "source": [
    "mlflow.get_tracking_uri()"
   ]
  },
  {
   "cell_type": "code",
   "execution_count": 44,
   "id": "78df35be-e04d-4b62-93a7-002255eadc8a",
   "metadata": {
    "tags": []
   },
   "outputs": [
    {
     "data": {
      "text/html": [
       "<div>\n",
       "<style scoped>\n",
       "    .dataframe tbody tr th:only-of-type {\n",
       "        vertical-align: middle;\n",
       "    }\n",
       "\n",
       "    .dataframe tbody tr th {\n",
       "        vertical-align: top;\n",
       "    }\n",
       "\n",
       "    .dataframe thead th {\n",
       "        text-align: right;\n",
       "    }\n",
       "</style>\n",
       "<table border=\"1\" class=\"dataframe\">\n",
       "  <thead>\n",
       "    <tr style=\"text-align: right;\">\n",
       "      <th></th>\n",
       "      <th>run_id</th>\n",
       "      <th>experiment_id</th>\n",
       "      <th>status</th>\n",
       "      <th>artifact_uri</th>\n",
       "      <th>start_time</th>\n",
       "      <th>end_time</th>\n",
       "      <th>tags.mlflow.runName</th>\n",
       "      <th>tags.mlflow.source.name</th>\n",
       "      <th>tags.mlflow.user</th>\n",
       "      <th>tags.mlflow.source.type</th>\n",
       "    </tr>\n",
       "  </thead>\n",
       "  <tbody>\n",
       "    <tr>\n",
       "      <th>0</th>\n",
       "      <td>6fa91945a68f4e5eab2ea870db021fbf</td>\n",
       "      <td>0</td>\n",
       "      <td>FINISHED</td>\n",
       "      <td>mlflow-artifacts:/0/6fa91945a68f4e5eab2ea870db...</td>\n",
       "      <td>2023-10-16 14:12:06.925000+00:00</td>\n",
       "      <td>2023-10-16 14:13:57.321000+00:00</td>\n",
       "      <td>ambitious-kit-377</td>\n",
       "      <td>/home/kousik/anaconda3/lib/python3.11/site-pac...</td>\n",
       "      <td>kousik</td>\n",
       "      <td>LOCAL</td>\n",
       "    </tr>\n",
       "  </tbody>\n",
       "</table>\n",
       "</div>"
      ],
      "text/plain": [
       "                             run_id experiment_id    status  \\\n",
       "0  6fa91945a68f4e5eab2ea870db021fbf             0  FINISHED   \n",
       "\n",
       "                                        artifact_uri  \\\n",
       "0  mlflow-artifacts:/0/6fa91945a68f4e5eab2ea870db...   \n",
       "\n",
       "                        start_time                         end_time  \\\n",
       "0 2023-10-16 14:12:06.925000+00:00 2023-10-16 14:13:57.321000+00:00   \n",
       "\n",
       "  tags.mlflow.runName                            tags.mlflow.source.name  \\\n",
       "0   ambitious-kit-377  /home/kousik/anaconda3/lib/python3.11/site-pac...   \n",
       "\n",
       "  tags.mlflow.user tags.mlflow.source.type  \n",
       "0           kousik                   LOCAL  "
      ]
     },
     "execution_count": 44,
     "metadata": {},
     "output_type": "execute_result"
    }
   ],
   "source": [
    "mlflow.search_runs(experiment_ids=[0]) "
   ]
  },
  {
   "cell_type": "code",
   "execution_count": 45,
   "id": "c764c2b8-f780-4e6c-964a-8fdf256bb5d1",
   "metadata": {
    "tags": []
   },
   "outputs": [
    {
     "data": {
      "text/plain": [
       "'546033799678305098'"
      ]
     },
     "execution_count": 45,
     "metadata": {},
     "output_type": "execute_result"
    }
   ],
   "source": [
    "mlflow.get_experiment_by_name(name=mlflow_config[\"experiment_name\"]).experiment_id"
   ]
  },
  {
   "cell_type": "code",
   "execution_count": 46,
   "id": "4666a90c-e1be-406e-ae05-8200f3bfe9b4",
   "metadata": {
    "tags": []
   },
   "outputs": [
    {
     "data": {
      "text/html": [
       "<div>\n",
       "<style scoped>\n",
       "    .dataframe tbody tr th:only-of-type {\n",
       "        vertical-align: middle;\n",
       "    }\n",
       "\n",
       "    .dataframe tbody tr th {\n",
       "        vertical-align: top;\n",
       "    }\n",
       "\n",
       "    .dataframe thead th {\n",
       "        text-align: right;\n",
       "    }\n",
       "</style>\n",
       "<table border=\"1\" class=\"dataframe\">\n",
       "  <thead>\n",
       "    <tr style=\"text-align: right;\">\n",
       "      <th></th>\n",
       "      <th>run_id</th>\n",
       "      <th>experiment_id</th>\n",
       "      <th>status</th>\n",
       "      <th>artifact_uri</th>\n",
       "      <th>start_time</th>\n",
       "      <th>end_time</th>\n",
       "      <th>metrics.r2</th>\n",
       "      <th>metrics.mae</th>\n",
       "      <th>metrics.rmse</th>\n",
       "      <th>params.l1_ratio</th>\n",
       "      <th>params.alpha</th>\n",
       "      <th>tags.mlflow.runName</th>\n",
       "      <th>tags.mlflow.log-model.history</th>\n",
       "      <th>tags.mlflow.user</th>\n",
       "      <th>tags.mlflow.source.type</th>\n",
       "      <th>tags.mlflow.source.name</th>\n",
       "    </tr>\n",
       "  </thead>\n",
       "  <tbody>\n",
       "    <tr>\n",
       "      <th>0</th>\n",
       "      <td>8859d9c293b54236b190b7aa83d8cc2a</td>\n",
       "      <td>546033799678305098</td>\n",
       "      <td>FINISHED</td>\n",
       "      <td>mlflow-artifacts:/546033799678305098/8859d9c29...</td>\n",
       "      <td>2023-10-16 14:24:38.116000+00:00</td>\n",
       "      <td>2023-10-16 14:24:40.807000+00:00</td>\n",
       "      <td>0.109640</td>\n",
       "      <td>0.618863</td>\n",
       "      <td>0.762795</td>\n",
       "      <td>0.5</td>\n",
       "      <td>0.5</td>\n",
       "      <td>mlops</td>\n",
       "      <td>[{\"run_id\": \"8859d9c293b54236b190b7aa83d8cc2a\"...</td>\n",
       "      <td>kousik</td>\n",
       "      <td>LOCAL</td>\n",
       "      <td>/home/kousik/anaconda3/lib/python3.11/site-pac...</td>\n",
       "    </tr>\n",
       "    <tr>\n",
       "      <th>1</th>\n",
       "      <td>7bde9a6978474518b69aad96c4846871</td>\n",
       "      <td>546033799678305098</td>\n",
       "      <td>FINISHED</td>\n",
       "      <td>mlflow-artifacts:/546033799678305098/7bde9a697...</td>\n",
       "      <td>2023-10-16 14:24:36.816000+00:00</td>\n",
       "      <td>2023-10-16 14:24:37.596000+00:00</td>\n",
       "      <td>NaN</td>\n",
       "      <td>NaN</td>\n",
       "      <td>NaN</td>\n",
       "      <td>None</td>\n",
       "      <td>None</td>\n",
       "      <td>capable-zebra-79</td>\n",
       "      <td>None</td>\n",
       "      <td>kousik</td>\n",
       "      <td>LOCAL</td>\n",
       "      <td>/home/kousik/anaconda3/lib/python3.11/site-pac...</td>\n",
       "    </tr>\n",
       "    <tr>\n",
       "      <th>2</th>\n",
       "      <td>1526e10983084bd1b46503e54c538980</td>\n",
       "      <td>546033799678305098</td>\n",
       "      <td>FINISHED</td>\n",
       "      <td>mlflow-artifacts:/546033799678305098/1526e1098...</td>\n",
       "      <td>2023-10-16 14:13:57.948000+00:00</td>\n",
       "      <td>2023-10-16 14:14:00.873000+00:00</td>\n",
       "      <td>0.008382</td>\n",
       "      <td>0.659818</td>\n",
       "      <td>0.805002</td>\n",
       "      <td>0.89</td>\n",
       "      <td>0.88</td>\n",
       "      <td>mlops</td>\n",
       "      <td>[{\"run_id\": \"1526e10983084bd1b46503e54c538980\"...</td>\n",
       "      <td>kousik</td>\n",
       "      <td>LOCAL</td>\n",
       "      <td>/home/kousik/anaconda3/lib/python3.11/site-pac...</td>\n",
       "    </tr>\n",
       "  </tbody>\n",
       "</table>\n",
       "</div>"
      ],
      "text/plain": [
       "                             run_id       experiment_id    status  \\\n",
       "0  8859d9c293b54236b190b7aa83d8cc2a  546033799678305098  FINISHED   \n",
       "1  7bde9a6978474518b69aad96c4846871  546033799678305098  FINISHED   \n",
       "2  1526e10983084bd1b46503e54c538980  546033799678305098  FINISHED   \n",
       "\n",
       "                                        artifact_uri  \\\n",
       "0  mlflow-artifacts:/546033799678305098/8859d9c29...   \n",
       "1  mlflow-artifacts:/546033799678305098/7bde9a697...   \n",
       "2  mlflow-artifacts:/546033799678305098/1526e1098...   \n",
       "\n",
       "                        start_time                         end_time  \\\n",
       "0 2023-10-16 14:24:38.116000+00:00 2023-10-16 14:24:40.807000+00:00   \n",
       "1 2023-10-16 14:24:36.816000+00:00 2023-10-16 14:24:37.596000+00:00   \n",
       "2 2023-10-16 14:13:57.948000+00:00 2023-10-16 14:14:00.873000+00:00   \n",
       "\n",
       "   metrics.r2  metrics.mae  metrics.rmse params.l1_ratio params.alpha  \\\n",
       "0    0.109640     0.618863      0.762795             0.5          0.5   \n",
       "1         NaN          NaN           NaN            None         None   \n",
       "2    0.008382     0.659818      0.805002            0.89         0.88   \n",
       "\n",
       "  tags.mlflow.runName                      tags.mlflow.log-model.history  \\\n",
       "0               mlops  [{\"run_id\": \"8859d9c293b54236b190b7aa83d8cc2a\"...   \n",
       "1    capable-zebra-79                                               None   \n",
       "2               mlops  [{\"run_id\": \"1526e10983084bd1b46503e54c538980\"...   \n",
       "\n",
       "  tags.mlflow.user tags.mlflow.source.type  \\\n",
       "0           kousik                   LOCAL   \n",
       "1           kousik                   LOCAL   \n",
       "2           kousik                   LOCAL   \n",
       "\n",
       "                             tags.mlflow.source.name  \n",
       "0  /home/kousik/anaconda3/lib/python3.11/site-pac...  \n",
       "1  /home/kousik/anaconda3/lib/python3.11/site-pac...  \n",
       "2  /home/kousik/anaconda3/lib/python3.11/site-pac...  "
      ]
     },
     "execution_count": 46,
     "metadata": {},
     "output_type": "execute_result"
    }
   ],
   "source": [
    "experiment_id = mlflow.get_experiment_by_name(name=mlflow_config[\"experiment_name\"]).experiment_id\n",
    "mlflow.search_runs(experiment_ids= experiment_id) "
   ]
  },
  {
   "cell_type": "code",
   "execution_count": 47,
   "id": "7676e99b-9ca4-4e0d-9629-61a12987e1bf",
   "metadata": {
    "tags": []
   },
   "outputs": [],
   "source": [
    "runs = mlflow.search_runs(experiment_ids= experiment_id)"
   ]
  },
  {
   "cell_type": "code",
   "execution_count": 48,
   "id": "153c2ffd-d724-4e9b-9c23-f928d88e132c",
   "metadata": {
    "tags": []
   },
   "outputs": [
    {
     "data": {
      "text/plain": [
       "0.6188630472018415"
      ]
     },
     "execution_count": 48,
     "metadata": {},
     "output_type": "execute_result"
    }
   ],
   "source": [
    "lowest = runs[\"metrics.mae\"].sort_values().iloc[0]\n",
    "lowest"
   ]
  },
  {
   "cell_type": "code",
   "execution_count": 49,
   "id": "d58edd61-497e-4987-97c1-20c65fa630d8",
   "metadata": {
    "tags": []
   },
   "outputs": [
    {
     "data": {
      "text/plain": [
       "'8859d9c293b54236b190b7aa83d8cc2a'"
      ]
     },
     "execution_count": 49,
     "metadata": {},
     "output_type": "execute_result"
    }
   ],
   "source": [
    "lowest_run_id = runs[runs[\"metrics.mae\"] == lowest][\"run_id\"].iloc[0]\n",
    "lowest_run_id"
   ]
  },
  {
   "cell_type": "code",
   "execution_count": null,
   "id": "3616b640-beff-4419-8638-80832709ec86",
   "metadata": {},
   "outputs": [],
   "source": []
  },
  {
   "cell_type": "code",
   "execution_count": 50,
   "id": "675f4398-2213-441d-a877-8f14495b8aa9",
   "metadata": {
    "tags": []
   },
   "outputs": [
    {
     "name": "stdout",
     "output_type": "stream",
     "text": [
      "{'aliases': [], 'creation_timestamp': 1697466280797, 'current_stage': 'None', 'description': '', 'last_updated_timestamp': 1697466280797, 'name': 'ElasticNetWineModel', 'run_id': '8859d9c293b54236b190b7aa83d8cc2a', 'run_link': '', 'source': 'mlflow-artifacts:/546033799678305098/8859d9c293b54236b190b7aa83d8cc2a/artifacts/model', 'status': 'READY', 'status_message': '', 'tags': {}, 'user_id': '', 'version': '2'}\n",
      "{'aliases': [], 'creation_timestamp': 1697465640866, 'current_stage': 'Production', 'description': '', 'last_updated_timestamp': 1697465674849, 'name': 'ElasticNetWineModel', 'run_id': '1526e10983084bd1b46503e54c538980', 'run_link': '', 'source': 'mlflow-artifacts:/546033799678305098/1526e10983084bd1b46503e54c538980/artifacts/model', 'status': 'READY', 'status_message': '', 'tags': {}, 'user_id': '', 'version': '1'}\n"
     ]
    }
   ],
   "source": [
    "client = MlflowClient()\n",
    "for mv in client.search_model_versions(f\"name='{model_name}'\"):\n",
    "    mv = dict(mv)\n",
    "    print(mv)"
   ]
  },
  {
   "cell_type": "code",
   "execution_count": null,
   "id": "c07f6ffa-2420-4f8f-8481-deddd65a929b",
   "metadata": {
    "tags": []
   },
   "outputs": [],
   "source": []
  },
  {
   "cell_type": "code",
   "execution_count": null,
   "id": "9cb5e42c-6d85-4d49-b4b7-ad8ec3a408db",
   "metadata": {},
   "outputs": [],
   "source": []
  },
  {
   "cell_type": "code",
   "execution_count": 51,
   "id": "8141f355-cca6-4733-9431-e6a74f717254",
   "metadata": {},
   "outputs": [
    {
     "name": "stdout",
     "output_type": "stream",
     "text": [
      "{   'aliases': [],\n",
      "    'creation_timestamp': 1697466280797,\n",
      "    'current_stage': 'None',\n",
      "    'description': '',\n",
      "    'last_updated_timestamp': 1697466280797,\n",
      "    'name': 'ElasticNetWineModel',\n",
      "    'run_id': '8859d9c293b54236b190b7aa83d8cc2a',\n",
      "    'run_link': '',\n",
      "    'source': 'mlflow-artifacts:/546033799678305098/8859d9c293b54236b190b7aa83d8cc2a/artifacts/model',\n",
      "    'status': 'READY',\n",
      "    'status_message': '',\n",
      "    'tags': {},\n",
      "    'user_id': '',\n",
      "    'version': '2'}\n"
     ]
    },
    {
     "data": {
      "application/vnd.jupyter.widget-view+json": {
       "model_id": "ad7638c77269437dae41bf5b953ce932",
       "version_major": 2,
       "version_minor": 0
      },
      "text/plain": [
       "Downloading artifacts:   0%|          | 0/5 [00:00<?, ?it/s]"
      ]
     },
     "metadata": {},
     "output_type": "display_data"
    },
    {
     "data": {
      "text/plain": [
       "['prediction_service/model/model.joblib']"
      ]
     },
     "execution_count": 51,
     "metadata": {},
     "output_type": "execute_result"
    }
   ],
   "source": [
    "client = MlflowClient()\n",
    "for mv in client.search_model_versions(f\"name='{model_name}'\"):\n",
    "    mv = dict(mv)\n",
    "\n",
    "    if mv[\"run_id\"] == lowest_run_id:\n",
    "        current_version = mv[\"version\"]\n",
    "        logged_model = mv[\"source\"]\n",
    "        pprint(mv, indent=4)\n",
    "        client.transition_model_version_stage(\n",
    "            name=model_name,\n",
    "            version=current_version,\n",
    "            stage=\"Production\"\n",
    "        )\n",
    "    else:\n",
    "        current_version = mv[\"version\"]\n",
    "        client.transition_model_version_stage(\n",
    "            name=model_name,\n",
    "            version=current_version,\n",
    "            stage=\"Staging\"\n",
    "        )        \n",
    "\n",
    "######### Load the Production model #################\n",
    "loaded_model = mlflow.pyfunc.load_model(logged_model)\n",
    "\n",
    "model_path = config[\"webapp_model_dir\"] #\"prediction_service/model\"\n",
    "\n",
    "joblib.dump(loaded_model, model_path)"
   ]
  },
  {
   "cell_type": "code",
   "execution_count": null,
   "id": "969cbb52-d88e-4987-a5d5-ece15903bc20",
   "metadata": {},
   "outputs": [],
   "source": []
  }
 ],
 "metadata": {
  "kernelspec": {
   "display_name": "Python 3 (ipykernel)",
   "language": "python",
   "name": "python3"
  },
  "language_info": {
   "codemirror_mode": {
    "name": "ipython",
    "version": 3
   },
   "file_extension": ".py",
   "mimetype": "text/x-python",
   "name": "python",
   "nbconvert_exporter": "python",
   "pygments_lexer": "ipython3",
   "version": "3.11.5"
  },
  "widgets": {
   "application/vnd.jupyter.widget-state+json": {
    "state": {
     "02cd4909e597440788d1f3cc7f2c86ae": {
      "model_module": "@jupyter-widgets/controls",
      "model_module_version": "2.0.0",
      "model_name": "HBoxModel",
      "state": {
       "children": [
        "IPY_MODEL_245fd4efdcfa4d33a303ef4cf4ca7860",
        "IPY_MODEL_70242e4c6a2a41af9cbc2720f36c9ecc",
        "IPY_MODEL_370eda1aba404c2c980c5ff5ae70f142"
       ],
       "layout": "IPY_MODEL_51de8188b5e14e748f196773a6189ba3"
      }
     },
     "10eb1da9f8e14595a92bf985f0ba75ab": {
      "model_module": "@jupyter-widgets/base",
      "model_module_version": "2.0.0",
      "model_name": "LayoutModel",
      "state": {}
     },
     "245fd4efdcfa4d33a303ef4cf4ca7860": {
      "model_module": "@jupyter-widgets/controls",
      "model_module_version": "2.0.0",
      "model_name": "HTMLModel",
      "state": {
       "layout": "IPY_MODEL_b547f5d183c94bf68e3671fb0a547699",
       "style": "IPY_MODEL_a3d72101ae344066943d61adc8d290cc",
       "value": "Downloading artifacts: 100%"
      }
     },
     "307f7fc2cd07428188953acc8184c4f3": {
      "model_module": "@jupyter-widgets/base",
      "model_module_version": "2.0.0",
      "model_name": "LayoutModel",
      "state": {}
     },
     "370eda1aba404c2c980c5ff5ae70f142": {
      "model_module": "@jupyter-widgets/controls",
      "model_module_version": "2.0.0",
      "model_name": "HTMLModel",
      "state": {
       "layout": "IPY_MODEL_dd7be758827540f88cf01244900a43fc",
       "style": "IPY_MODEL_8e7257896731450b998bbd69974bdd24",
       "value": " 5/5 [00:00&lt;00:00, 204.37it/s]"
      }
     },
     "4ad2a3baa4fa4309b028d1b0ffc1c9ff": {
      "model_module": "@jupyter-widgets/controls",
      "model_module_version": "2.0.0",
      "model_name": "ProgressStyleModel",
      "state": {
       "description_width": ""
      }
     },
     "51de8188b5e14e748f196773a6189ba3": {
      "model_module": "@jupyter-widgets/base",
      "model_module_version": "2.0.0",
      "model_name": "LayoutModel",
      "state": {}
     },
     "6b046589ffdb4e109146f51c595c766d": {
      "model_module": "@jupyter-widgets/controls",
      "model_module_version": "2.0.0",
      "model_name": "FloatProgressModel",
      "state": {
       "bar_style": "success",
       "layout": "IPY_MODEL_fefaf5f3490c4157b464b97326de63e9",
       "max": 5,
       "style": "IPY_MODEL_4ad2a3baa4fa4309b028d1b0ffc1c9ff",
       "value": 5
      }
     },
     "6c5a59c84e354bf889fbbd20ba01fbbf": {
      "model_module": "@jupyter-widgets/controls",
      "model_module_version": "2.0.0",
      "model_name": "HTMLModel",
      "state": {
       "layout": "IPY_MODEL_a59c1db8c5564c9a979c896d785966ea",
       "style": "IPY_MODEL_f0b0e87532004515a1c8f357815db39c",
       "value": "Downloading artifacts: 100%"
      }
     },
     "70242e4c6a2a41af9cbc2720f36c9ecc": {
      "model_module": "@jupyter-widgets/controls",
      "model_module_version": "2.0.0",
      "model_name": "FloatProgressModel",
      "state": {
       "bar_style": "success",
       "layout": "IPY_MODEL_10eb1da9f8e14595a92bf985f0ba75ab",
       "max": 5,
       "style": "IPY_MODEL_ebf79710ba7045cb81b57dbe683d1355",
       "value": 5
      }
     },
     "819b2ed92d4649fdbc52a79c73ce333b": {
      "model_module": "@jupyter-widgets/controls",
      "model_module_version": "2.0.0",
      "model_name": "HTMLStyleModel",
      "state": {
       "description_width": "",
       "font_size": null,
       "text_color": null
      }
     },
     "8e7257896731450b998bbd69974bdd24": {
      "model_module": "@jupyter-widgets/controls",
      "model_module_version": "2.0.0",
      "model_name": "HTMLStyleModel",
      "state": {
       "description_width": "",
       "font_size": null,
       "text_color": null
      }
     },
     "a3d72101ae344066943d61adc8d290cc": {
      "model_module": "@jupyter-widgets/controls",
      "model_module_version": "2.0.0",
      "model_name": "HTMLStyleModel",
      "state": {
       "description_width": "",
       "font_size": null,
       "text_color": null
      }
     },
     "a59c1db8c5564c9a979c896d785966ea": {
      "model_module": "@jupyter-widgets/base",
      "model_module_version": "2.0.0",
      "model_name": "LayoutModel",
      "state": {}
     },
     "ad7638c77269437dae41bf5b953ce932": {
      "model_module": "@jupyter-widgets/controls",
      "model_module_version": "2.0.0",
      "model_name": "HBoxModel",
      "state": {
       "children": [
        "IPY_MODEL_6c5a59c84e354bf889fbbd20ba01fbbf",
        "IPY_MODEL_6b046589ffdb4e109146f51c595c766d",
        "IPY_MODEL_f37845138d9840b0813a5bde644e1b28"
       ],
       "layout": "IPY_MODEL_bcbb7f76db384ba2ba3861f3e061689f"
      }
     },
     "b547f5d183c94bf68e3671fb0a547699": {
      "model_module": "@jupyter-widgets/base",
      "model_module_version": "2.0.0",
      "model_name": "LayoutModel",
      "state": {}
     },
     "bcbb7f76db384ba2ba3861f3e061689f": {
      "model_module": "@jupyter-widgets/base",
      "model_module_version": "2.0.0",
      "model_name": "LayoutModel",
      "state": {}
     },
     "dd7be758827540f88cf01244900a43fc": {
      "model_module": "@jupyter-widgets/base",
      "model_module_version": "2.0.0",
      "model_name": "LayoutModel",
      "state": {}
     },
     "ebf79710ba7045cb81b57dbe683d1355": {
      "model_module": "@jupyter-widgets/controls",
      "model_module_version": "2.0.0",
      "model_name": "ProgressStyleModel",
      "state": {
       "description_width": ""
      }
     },
     "f0b0e87532004515a1c8f357815db39c": {
      "model_module": "@jupyter-widgets/controls",
      "model_module_version": "2.0.0",
      "model_name": "HTMLStyleModel",
      "state": {
       "description_width": "",
       "font_size": null,
       "text_color": null
      }
     },
     "f37845138d9840b0813a5bde644e1b28": {
      "model_module": "@jupyter-widgets/controls",
      "model_module_version": "2.0.0",
      "model_name": "HTMLModel",
      "state": {
       "layout": "IPY_MODEL_307f7fc2cd07428188953acc8184c4f3",
       "style": "IPY_MODEL_819b2ed92d4649fdbc52a79c73ce333b",
       "value": " 5/5 [00:00&lt;00:00, 85.68it/s]"
      }
     },
     "fefaf5f3490c4157b464b97326de63e9": {
      "model_module": "@jupyter-widgets/base",
      "model_module_version": "2.0.0",
      "model_name": "LayoutModel",
      "state": {}
     }
    },
    "version_major": 2,
    "version_minor": 0
   }
  }
 },
 "nbformat": 4,
 "nbformat_minor": 5
}
